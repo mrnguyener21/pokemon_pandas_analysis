{
 "metadata": {
  "language_info": {
   "codemirror_mode": {
    "name": "ipython",
    "version": 3
   },
   "file_extension": ".py",
   "mimetype": "text/x-python",
   "name": "python",
   "nbconvert_exporter": "python",
   "pygments_lexer": "ipython3",
   "version": "3.8.5-final"
  },
  "orig_nbformat": 2,
  "kernelspec": {
   "name": "python3",
   "display_name": "Python 3",
   "language": "python"
  }
 },
 "nbformat": 4,
 "nbformat_minor": 2,
 "cells": [
  {
   "cell_type": "code",
   "execution_count": 1,
   "metadata": {},
   "outputs": [
    {
     "output_type": "stream",
     "name": "stdout",
     "text": [
      "<class 'pandas.core.frame.DataFrame'>\nRangeIndex: 800 entries, 0 to 799\nData columns (total 14 columns):\n #   Column      Non-Null Count  Dtype \n---  ------      --------------  ----- \n 0   #           800 non-null    int64 \n 1   Name        800 non-null    object\n 2   Type 1      800 non-null    object\n 3   Type 2      414 non-null    object\n 4   Total       800 non-null    int64 \n 5   HP          800 non-null    int64 \n 6   Attack      800 non-null    int64 \n 7   Defense     800 non-null    int64 \n 8   Sp. Atk     800 non-null    int64 \n 9   Sp. Def     800 non-null    int64 \n 10  Speed       800 non-null    int64 \n 11  Generation  800 non-null    int64 \n 12  Legendary   800 non-null    object\n 13  Region      800 non-null    object\ndtypes: int64(9), object(5)\nmemory usage: 87.6+ KB\n"
     ]
    }
   ],
   "source": [
    "#Data Manipulation\n",
    "import numpy as np \n",
    "import pandas as pd \n",
    "\n",
    "#Data Visulation Tools\n",
    "import seaborn as sns\n",
    "import matplotlib as plt\n",
    "\n",
    "#Importing the data into the jupiter notebook and revealing we have 800 rows and 12 columns in this dataset\n",
    "pokedex = pd.read_csv('pokemon csv.csv')\n",
    "pokedex.info()"
   ]
  },
  {
   "cell_type": "code",
   "execution_count": 56,
   "metadata": {},
   "outputs": [
    {
     "output_type": "execute_result",
     "data": {
      "text/plain": [
       "   #                   Name Type 1  Type 2  Total  HP  Attack  Defense  \\\n",
       "0  1              Bulbasaur  Grass  Poison    318  45      49       49   \n",
       "1  2                Ivysaur  Grass  Poison    405  60      62       63   \n",
       "2  3               Venusaur  Grass  Poison    525  80      82       83   \n",
       "3  3  VenusaurMega Venusaur  Grass  Poison    625  80     100      123   \n",
       "4  4             Charmander   Fire     NaN    309  39      52       43   \n",
       "\n",
       "   Sp. Atk  Sp. Def  Speed  Generation      Legendary Region  \n",
       "0       65       65     45           1  NON-LEGENDARY  Kanto  \n",
       "1       80       80     60           1  NON-LEGENDARY  Kanto  \n",
       "2      100      100     80           1  NON-LEGENDARY  Kanto  \n",
       "3      122      120     80           1  NON-LEGENDARY  Kanto  \n",
       "4       60       50     65           1  NON-LEGENDARY  Kanto  "
      ],
      "text/html": "<div>\n<style scoped>\n    .dataframe tbody tr th:only-of-type {\n        vertical-align: middle;\n    }\n\n    .dataframe tbody tr th {\n        vertical-align: top;\n    }\n\n    .dataframe thead th {\n        text-align: right;\n    }\n</style>\n<table border=\"1\" class=\"dataframe\">\n  <thead>\n    <tr style=\"text-align: right;\">\n      <th></th>\n      <th>#</th>\n      <th>Name</th>\n      <th>Type 1</th>\n      <th>Type 2</th>\n      <th>Total</th>\n      <th>HP</th>\n      <th>Attack</th>\n      <th>Defense</th>\n      <th>Sp. Atk</th>\n      <th>Sp. Def</th>\n      <th>Speed</th>\n      <th>Generation</th>\n      <th>Legendary</th>\n      <th>Region</th>\n    </tr>\n  </thead>\n  <tbody>\n    <tr>\n      <th>0</th>\n      <td>1</td>\n      <td>Bulbasaur</td>\n      <td>Grass</td>\n      <td>Poison</td>\n      <td>318</td>\n      <td>45</td>\n      <td>49</td>\n      <td>49</td>\n      <td>65</td>\n      <td>65</td>\n      <td>45</td>\n      <td>1</td>\n      <td>NON-LEGENDARY</td>\n      <td>Kanto</td>\n    </tr>\n    <tr>\n      <th>1</th>\n      <td>2</td>\n      <td>Ivysaur</td>\n      <td>Grass</td>\n      <td>Poison</td>\n      <td>405</td>\n      <td>60</td>\n      <td>62</td>\n      <td>63</td>\n      <td>80</td>\n      <td>80</td>\n      <td>60</td>\n      <td>1</td>\n      <td>NON-LEGENDARY</td>\n      <td>Kanto</td>\n    </tr>\n    <tr>\n      <th>2</th>\n      <td>3</td>\n      <td>Venusaur</td>\n      <td>Grass</td>\n      <td>Poison</td>\n      <td>525</td>\n      <td>80</td>\n      <td>82</td>\n      <td>83</td>\n      <td>100</td>\n      <td>100</td>\n      <td>80</td>\n      <td>1</td>\n      <td>NON-LEGENDARY</td>\n      <td>Kanto</td>\n    </tr>\n    <tr>\n      <th>3</th>\n      <td>3</td>\n      <td>VenusaurMega Venusaur</td>\n      <td>Grass</td>\n      <td>Poison</td>\n      <td>625</td>\n      <td>80</td>\n      <td>100</td>\n      <td>123</td>\n      <td>122</td>\n      <td>120</td>\n      <td>80</td>\n      <td>1</td>\n      <td>NON-LEGENDARY</td>\n      <td>Kanto</td>\n    </tr>\n    <tr>\n      <th>4</th>\n      <td>4</td>\n      <td>Charmander</td>\n      <td>Fire</td>\n      <td>NaN</td>\n      <td>309</td>\n      <td>39</td>\n      <td>52</td>\n      <td>43</td>\n      <td>60</td>\n      <td>50</td>\n      <td>65</td>\n      <td>1</td>\n      <td>NON-LEGENDARY</td>\n      <td>Kanto</td>\n    </tr>\n  </tbody>\n</table>\n</div>"
     },
     "metadata": {},
     "execution_count": 56
    }
   ],
   "source": [
    "#THIS SECTION WILL BE TAKING INTO ACCOUNT THE ENTIRE ROSTER\n",
    "pokedex.head()"
   ]
  },
  {
   "cell_type": "code",
   "execution_count": 88,
   "metadata": {},
   "outputs": [
    {
     "output_type": "execute_result",
     "data": {
      "text/plain": [
       "            #   Total      HP  Attack  Defense  Sp. Atk  Sp. Def   Speed  \\\n",
       "count  800.00  800.00  800.00  800.00   800.00   800.00   800.00  800.00   \n",
       "mean   362.81  435.10   69.26   79.00    73.84    72.82    71.90   68.28   \n",
       "std    208.34  119.96   25.53   32.46    31.18    32.72    27.83   29.06   \n",
       "min      1.00  180.00    1.00    5.00     5.00    10.00    20.00    5.00   \n",
       "25%    184.75  330.00   50.00   55.00    50.00    49.75    50.00   45.00   \n",
       "50%    364.50  450.00   65.00   75.00    70.00    65.00    70.00   65.00   \n",
       "75%    539.25  515.00   80.00  100.00    90.00    95.00    90.00   90.00   \n",
       "max    721.00  780.00  255.00  190.00   230.00   194.00   230.00  180.00   \n",
       "\n",
       "       Generation  \n",
       "count      800.00  \n",
       "mean         3.32  \n",
       "std          1.66  \n",
       "min          1.00  \n",
       "25%          2.00  \n",
       "50%          3.00  \n",
       "75%          5.00  \n",
       "max          6.00  "
      ],
      "text/html": "<div>\n<style scoped>\n    .dataframe tbody tr th:only-of-type {\n        vertical-align: middle;\n    }\n\n    .dataframe tbody tr th {\n        vertical-align: top;\n    }\n\n    .dataframe thead th {\n        text-align: right;\n    }\n</style>\n<table border=\"1\" class=\"dataframe\">\n  <thead>\n    <tr style=\"text-align: right;\">\n      <th></th>\n      <th>#</th>\n      <th>Total</th>\n      <th>HP</th>\n      <th>Attack</th>\n      <th>Defense</th>\n      <th>Sp. Atk</th>\n      <th>Sp. Def</th>\n      <th>Speed</th>\n      <th>Generation</th>\n    </tr>\n  </thead>\n  <tbody>\n    <tr>\n      <th>count</th>\n      <td>800.00</td>\n      <td>800.00</td>\n      <td>800.00</td>\n      <td>800.00</td>\n      <td>800.00</td>\n      <td>800.00</td>\n      <td>800.00</td>\n      <td>800.00</td>\n      <td>800.00</td>\n    </tr>\n    <tr>\n      <th>mean</th>\n      <td>362.81</td>\n      <td>435.10</td>\n      <td>69.26</td>\n      <td>79.00</td>\n      <td>73.84</td>\n      <td>72.82</td>\n      <td>71.90</td>\n      <td>68.28</td>\n      <td>3.32</td>\n    </tr>\n    <tr>\n      <th>std</th>\n      <td>208.34</td>\n      <td>119.96</td>\n      <td>25.53</td>\n      <td>32.46</td>\n      <td>31.18</td>\n      <td>32.72</td>\n      <td>27.83</td>\n      <td>29.06</td>\n      <td>1.66</td>\n    </tr>\n    <tr>\n      <th>min</th>\n      <td>1.00</td>\n      <td>180.00</td>\n      <td>1.00</td>\n      <td>5.00</td>\n      <td>5.00</td>\n      <td>10.00</td>\n      <td>20.00</td>\n      <td>5.00</td>\n      <td>1.00</td>\n    </tr>\n    <tr>\n      <th>25%</th>\n      <td>184.75</td>\n      <td>330.00</td>\n      <td>50.00</td>\n      <td>55.00</td>\n      <td>50.00</td>\n      <td>49.75</td>\n      <td>50.00</td>\n      <td>45.00</td>\n      <td>2.00</td>\n    </tr>\n    <tr>\n      <th>50%</th>\n      <td>364.50</td>\n      <td>450.00</td>\n      <td>65.00</td>\n      <td>75.00</td>\n      <td>70.00</td>\n      <td>65.00</td>\n      <td>70.00</td>\n      <td>65.00</td>\n      <td>3.00</td>\n    </tr>\n    <tr>\n      <th>75%</th>\n      <td>539.25</td>\n      <td>515.00</td>\n      <td>80.00</td>\n      <td>100.00</td>\n      <td>90.00</td>\n      <td>95.00</td>\n      <td>90.00</td>\n      <td>90.00</td>\n      <td>5.00</td>\n    </tr>\n    <tr>\n      <th>max</th>\n      <td>721.00</td>\n      <td>780.00</td>\n      <td>255.00</td>\n      <td>190.00</td>\n      <td>230.00</td>\n      <td>194.00</td>\n      <td>230.00</td>\n      <td>180.00</td>\n      <td>6.00</td>\n    </tr>\n  </tbody>\n</table>\n</div>"
     },
     "metadata": {},
     "execution_count": 88
    }
   ],
   "source": [
    "#quick descrptive statistics of the data set\n",
    "pokedex.describe().round(2)"
   ]
  },
  {
   "cell_type": "code",
   "execution_count": 69,
   "metadata": {},
   "outputs": [
    {
     "output_type": "execute_result",
     "data": {
      "text/plain": [
       "       #                   Name   Type 1    Type 2  Total   HP  Attack  \\\n",
       "426  384  RayquazaMega Rayquaza   Dragon    Flying    780  105     180   \n",
       "164  150    MewtwoMega Mewtwo Y  Psychic       NaN    780  106     150   \n",
       "163  150    MewtwoMega Mewtwo X  Psychic  Fighting    780  106     190   \n",
       "422  382    KyogrePrimal Kyogre    Water       NaN    770  100     150   \n",
       "424  383  GroudonPrimal Groudon   Ground      Fire    770  100     180   \n",
       "\n",
       "     Defense  Sp. Atk  Sp. Def  Speed  Generation  Legendary Region  \n",
       "426      100      180      100    115           3  LEGENDARY  Hoenn  \n",
       "164       70      194      120    140           1  LEGENDARY  Kanto  \n",
       "163      100      154      100    130           1  LEGENDARY  Kanto  \n",
       "422       90      180      160     90           3  LEGENDARY  Hoenn  \n",
       "424      160      150       90     90           3  LEGENDARY  Hoenn  "
      ],
      "text/html": "<div>\n<style scoped>\n    .dataframe tbody tr th:only-of-type {\n        vertical-align: middle;\n    }\n\n    .dataframe tbody tr th {\n        vertical-align: top;\n    }\n\n    .dataframe thead th {\n        text-align: right;\n    }\n</style>\n<table border=\"1\" class=\"dataframe\">\n  <thead>\n    <tr style=\"text-align: right;\">\n      <th></th>\n      <th>#</th>\n      <th>Name</th>\n      <th>Type 1</th>\n      <th>Type 2</th>\n      <th>Total</th>\n      <th>HP</th>\n      <th>Attack</th>\n      <th>Defense</th>\n      <th>Sp. Atk</th>\n      <th>Sp. Def</th>\n      <th>Speed</th>\n      <th>Generation</th>\n      <th>Legendary</th>\n      <th>Region</th>\n    </tr>\n  </thead>\n  <tbody>\n    <tr>\n      <th>426</th>\n      <td>384</td>\n      <td>RayquazaMega Rayquaza</td>\n      <td>Dragon</td>\n      <td>Flying</td>\n      <td>780</td>\n      <td>105</td>\n      <td>180</td>\n      <td>100</td>\n      <td>180</td>\n      <td>100</td>\n      <td>115</td>\n      <td>3</td>\n      <td>LEGENDARY</td>\n      <td>Hoenn</td>\n    </tr>\n    <tr>\n      <th>164</th>\n      <td>150</td>\n      <td>MewtwoMega Mewtwo Y</td>\n      <td>Psychic</td>\n      <td>NaN</td>\n      <td>780</td>\n      <td>106</td>\n      <td>150</td>\n      <td>70</td>\n      <td>194</td>\n      <td>120</td>\n      <td>140</td>\n      <td>1</td>\n      <td>LEGENDARY</td>\n      <td>Kanto</td>\n    </tr>\n    <tr>\n      <th>163</th>\n      <td>150</td>\n      <td>MewtwoMega Mewtwo X</td>\n      <td>Psychic</td>\n      <td>Fighting</td>\n      <td>780</td>\n      <td>106</td>\n      <td>190</td>\n      <td>100</td>\n      <td>154</td>\n      <td>100</td>\n      <td>130</td>\n      <td>1</td>\n      <td>LEGENDARY</td>\n      <td>Kanto</td>\n    </tr>\n    <tr>\n      <th>422</th>\n      <td>382</td>\n      <td>KyogrePrimal Kyogre</td>\n      <td>Water</td>\n      <td>NaN</td>\n      <td>770</td>\n      <td>100</td>\n      <td>150</td>\n      <td>90</td>\n      <td>180</td>\n      <td>160</td>\n      <td>90</td>\n      <td>3</td>\n      <td>LEGENDARY</td>\n      <td>Hoenn</td>\n    </tr>\n    <tr>\n      <th>424</th>\n      <td>383</td>\n      <td>GroudonPrimal Groudon</td>\n      <td>Ground</td>\n      <td>Fire</td>\n      <td>770</td>\n      <td>100</td>\n      <td>180</td>\n      <td>160</td>\n      <td>150</td>\n      <td>90</td>\n      <td>90</td>\n      <td>3</td>\n      <td>LEGENDARY</td>\n      <td>Hoenn</td>\n    </tr>\n  </tbody>\n</table>\n</div>"
     },
     "metadata": {},
     "execution_count": 69
    }
   ],
   "source": [
    "#What are the top 5 strongest pokemons based on largest total\n",
    "# pokedex.loc[pokedex['Total'].max(),'Type 1']\n",
    "pokedex.sort_values(['Total'], ascending=False).head(5)"
   ]
  },
  {
   "cell_type": "code",
   "execution_count": 5,
   "metadata": {},
   "outputs": [
    {
     "output_type": "execute_result",
     "data": {
      "text/plain": [
       "721"
      ]
     },
     "metadata": {},
     "execution_count": 5
    }
   ],
   "source": [
    "#How many pokemon entries do we have in our data set?\n",
    "pokedex['#'].nunique()\n",
    "#We have a total of 721 different types of unique pokmeon"
   ]
  },
  {
   "cell_type": "code",
   "execution_count": 13,
   "metadata": {},
   "outputs": [
    {
     "output_type": "execute_result",
     "data": {
      "text/plain": [
       "Generation\n",
       "1    151\n",
       "2    100\n",
       "3    135\n",
       "4    107\n",
       "5    156\n",
       "6     72\n",
       "Name: #, dtype: int64"
      ]
     },
     "metadata": {},
     "execution_count": 13
    }
   ],
   "source": [
    "#How many pokemon beleong to each generation\n",
    "pokedex.groupby('Generation').nunique()['#']"
   ]
  },
  {
   "cell_type": "code",
   "execution_count": 6,
   "metadata": {},
   "outputs": [
    {
     "output_type": "execute_result",
     "data": {
      "text/plain": [
       "Generation\n",
       "1    20.94\n",
       "2    13.87\n",
       "3    18.72\n",
       "4    14.84\n",
       "5    21.64\n",
       "6     9.99\n",
       "Name: #, dtype: float64"
      ]
     },
     "metadata": {},
     "execution_count": 6
    }
   ],
   "source": [
    "#What is the percentage of each generation to the entire rost\n",
    "((pokedex.groupby('Generation').nunique()['#']/pokedex['#'].nunique()) * 100).round(2)"
   ]
  },
  {
   "cell_type": "code",
   "execution_count": 16,
   "metadata": {},
   "outputs": [
    {
     "output_type": "execute_result",
     "data": {
      "text/plain": [
       "Generation\n",
       "1     Kanto\n",
       "2     Johto\n",
       "3     Hoenn\n",
       "4    Sinnoh\n",
       "5     Unova\n",
       "6     Kalos\n",
       "Name: Region, dtype: object"
      ]
     },
     "metadata": {},
     "execution_count": 16
    }
   ],
   "source": [
    "#What Region Belongs to what Region\n",
    "#just used max to get the actual value of the cell vs a number count\n",
    "pokedex.groupby(['Generation'])['Region'].max()"
   ]
  },
  {
   "cell_type": "code",
   "execution_count": 31,
   "metadata": {},
   "outputs": [
    {
     "output_type": "execute_result",
     "data": {
      "text/plain": [
       "       #                     Name   Type 1  Type 2  Total   HP  Attack  \\\n",
       "426  384    RayquazaMega Rayquaza   Dragon  Flying    780  105     180   \n",
       "164  150      MewtwoMega Mewtwo Y  Psychic     NaN    780  106     150   \n",
       "552  493                   Arceus   Normal     NaN    720  120     120   \n",
       "712  646       KyuremWhite Kyurem   Dragon     Ice    700  125     120   \n",
       "268  248  TyranitarMega Tyranitar     Rock    Dark    700  100     164   \n",
       "796  719      DiancieMega Diancie     Rock   Fairy    700   50     160   \n",
       "\n",
       "     Defense  Sp. Atk  Sp. Def  Speed  Generation      Legendary  Region  \n",
       "426      100      180      100    115           3      LEGENDARY   Hoenn  \n",
       "164       70      194      120    140           1      LEGENDARY   Kanto  \n",
       "552      120      120      120    120           4      LEGENDARY  Sinnoh  \n",
       "712       90      170      100     95           5      LEGENDARY   Unova  \n",
       "268      150       95      120     71           2  NON-LEGENDARY   Johto  \n",
       "796      110      160      110    110           6      LEGENDARY   Kalos  "
      ],
      "text/html": "<div>\n<style scoped>\n    .dataframe tbody tr th:only-of-type {\n        vertical-align: middle;\n    }\n\n    .dataframe tbody tr th {\n        vertical-align: top;\n    }\n\n    .dataframe thead th {\n        text-align: right;\n    }\n</style>\n<table border=\"1\" class=\"dataframe\">\n  <thead>\n    <tr style=\"text-align: right;\">\n      <th></th>\n      <th>#</th>\n      <th>Name</th>\n      <th>Type 1</th>\n      <th>Type 2</th>\n      <th>Total</th>\n      <th>HP</th>\n      <th>Attack</th>\n      <th>Defense</th>\n      <th>Sp. Atk</th>\n      <th>Sp. Def</th>\n      <th>Speed</th>\n      <th>Generation</th>\n      <th>Legendary</th>\n      <th>Region</th>\n    </tr>\n  </thead>\n  <tbody>\n    <tr>\n      <th>426</th>\n      <td>384</td>\n      <td>RayquazaMega Rayquaza</td>\n      <td>Dragon</td>\n      <td>Flying</td>\n      <td>780</td>\n      <td>105</td>\n      <td>180</td>\n      <td>100</td>\n      <td>180</td>\n      <td>100</td>\n      <td>115</td>\n      <td>3</td>\n      <td>LEGENDARY</td>\n      <td>Hoenn</td>\n    </tr>\n    <tr>\n      <th>164</th>\n      <td>150</td>\n      <td>MewtwoMega Mewtwo Y</td>\n      <td>Psychic</td>\n      <td>NaN</td>\n      <td>780</td>\n      <td>106</td>\n      <td>150</td>\n      <td>70</td>\n      <td>194</td>\n      <td>120</td>\n      <td>140</td>\n      <td>1</td>\n      <td>LEGENDARY</td>\n      <td>Kanto</td>\n    </tr>\n    <tr>\n      <th>552</th>\n      <td>493</td>\n      <td>Arceus</td>\n      <td>Normal</td>\n      <td>NaN</td>\n      <td>720</td>\n      <td>120</td>\n      <td>120</td>\n      <td>120</td>\n      <td>120</td>\n      <td>120</td>\n      <td>120</td>\n      <td>4</td>\n      <td>LEGENDARY</td>\n      <td>Sinnoh</td>\n    </tr>\n    <tr>\n      <th>712</th>\n      <td>646</td>\n      <td>KyuremWhite Kyurem</td>\n      <td>Dragon</td>\n      <td>Ice</td>\n      <td>700</td>\n      <td>125</td>\n      <td>120</td>\n      <td>90</td>\n      <td>170</td>\n      <td>100</td>\n      <td>95</td>\n      <td>5</td>\n      <td>LEGENDARY</td>\n      <td>Unova</td>\n    </tr>\n    <tr>\n      <th>268</th>\n      <td>248</td>\n      <td>TyranitarMega Tyranitar</td>\n      <td>Rock</td>\n      <td>Dark</td>\n      <td>700</td>\n      <td>100</td>\n      <td>164</td>\n      <td>150</td>\n      <td>95</td>\n      <td>120</td>\n      <td>71</td>\n      <td>2</td>\n      <td>NON-LEGENDARY</td>\n      <td>Johto</td>\n    </tr>\n    <tr>\n      <th>796</th>\n      <td>719</td>\n      <td>DiancieMega Diancie</td>\n      <td>Rock</td>\n      <td>Fairy</td>\n      <td>700</td>\n      <td>50</td>\n      <td>160</td>\n      <td>110</td>\n      <td>160</td>\n      <td>110</td>\n      <td>110</td>\n      <td>6</td>\n      <td>LEGENDARY</td>\n      <td>Kalos</td>\n    </tr>\n  </tbody>\n</table>\n</div>"
     },
     "metadata": {},
     "execution_count": 31
    }
   ],
   "source": [
    "# What are the strongest pokemon for each region\n",
    "pokedex.sort_values(by='Total', ascending=False).groupby(['Region']).head(1)\n"
   ]
  },
  {
   "cell_type": "code",
   "execution_count": 24,
   "metadata": {},
   "outputs": [
    {
     "output_type": "execute_result",
     "data": {
      "text/plain": [
       "Legendary\n",
       "NON-LEGENDARY    675\n",
       "LEGENDARY         46\n",
       "Name: #, dtype: int64"
      ]
     },
     "metadata": {},
     "execution_count": 24
    }
   ],
   "source": [
    "#How many pokemons are considered legendary and Non-Legendary\n",
    "pokedex.groupby(['Legendary'])['#'].nunique().sort_values(ascending = False)"
   ]
  },
  {
   "cell_type": "code",
   "execution_count": 25,
   "metadata": {},
   "outputs": [
    {
     "output_type": "execute_result",
     "data": {
      "text/plain": [
       "Legendary\n",
       "NON-LEGENDARY    93.62\n",
       "LEGENDARY         6.38\n",
       "Name: #, dtype: float64"
      ]
     },
     "metadata": {},
     "execution_count": 25
    }
   ],
   "source": [
    "#What is the percentage of legendary and non legendary\n",
    "((pokedex.groupby(['Legendary'])['#'].nunique()/pokedex['#'].nunique()) * 100).round(2).sort_values(ascending = False)"
   ]
  },
  {
   "cell_type": "code",
   "execution_count": 28,
   "metadata": {},
   "outputs": [
    {
     "output_type": "execute_result",
     "data": {
      "text/plain": [
       "Generation  Region\n",
       "1           Kanto      4\n",
       "2           Johto      5\n",
       "3           Hoenn     10\n",
       "4           Sinnoh    11\n",
       "5           Unova     10\n",
       "6           Kalos      6\n",
       "Name: #, dtype: int64"
      ]
     },
     "metadata": {},
     "execution_count": 28
    }
   ],
   "source": [
    "#How many legendary pokemons are in each region\n",
    "pokedex[pokedex['Legendary'] == 'LEGENDARY'].groupby(['Generation','Region'])['#'].nunique()"
   ]
  },
  {
   "cell_type": "code",
   "execution_count": 35,
   "metadata": {},
   "outputs": [
    {
     "output_type": "execute_result",
     "data": {
      "text/plain": [
       "Generation  Region\n",
       "1           Kanto      2.65\n",
       "2           Johto      5.00\n",
       "3           Hoenn      7.41\n",
       "4           Sinnoh    10.28\n",
       "5           Unova      6.41\n",
       "6           Kalos      8.33\n",
       "Name: #, dtype: float64"
      ]
     },
     "metadata": {},
     "execution_count": 35
    }
   ],
   "source": [
    "#What is the percentage of Legendary pokemon compared to the roster of their respective region\n",
    "(((pokedex[pokedex['Legendary'] == 'LEGENDARY'].groupby(['Generation','Region'])['#'].nunique())/(pokedex.groupby(['Generation','Region'])['#'].nunique())) * 100).round(2)"
   ]
  },
  {
   "cell_type": "code",
   "execution_count": 30,
   "metadata": {},
   "outputs": [
    {
     "output_type": "execute_result",
     "data": {
      "text/plain": [
       "       #                   Name   Type 1    Type 2  Total   HP  Attack  \\\n",
       "163  150    MewtwoMega Mewtwo X  Psychic  Fighting    780  106     190   \n",
       "426  384  RayquazaMega Rayquaza   Dragon    Flying    780  105     180   \n",
       "552  493                 Arceus   Normal       NaN    720  120     120   \n",
       "711  646     KyuremBlack Kyurem   Dragon       Ice    700  125     170   \n",
       "796  719    DiancieMega Diancie     Rock     Fairy    700   50     160   \n",
       "270  250                  Ho-oh     Fire    Flying    680  106     130   \n",
       "\n",
       "     Defense  Sp. Atk  Sp. Def  Speed  Generation  Legendary  Region  \n",
       "163      100      154      100    130           1  LEGENDARY   Kanto  \n",
       "426      100      180      100    115           3  LEGENDARY   Hoenn  \n",
       "552      120      120      120    120           4  LEGENDARY  Sinnoh  \n",
       "711      100      120       90     95           5  LEGENDARY   Unova  \n",
       "796      110      160      110    110           6  LEGENDARY   Kalos  \n",
       "270       90      110      154     90           2  LEGENDARY   Johto  "
      ],
      "text/html": "<div>\n<style scoped>\n    .dataframe tbody tr th:only-of-type {\n        vertical-align: middle;\n    }\n\n    .dataframe tbody tr th {\n        vertical-align: top;\n    }\n\n    .dataframe thead th {\n        text-align: right;\n    }\n</style>\n<table border=\"1\" class=\"dataframe\">\n  <thead>\n    <tr style=\"text-align: right;\">\n      <th></th>\n      <th>#</th>\n      <th>Name</th>\n      <th>Type 1</th>\n      <th>Type 2</th>\n      <th>Total</th>\n      <th>HP</th>\n      <th>Attack</th>\n      <th>Defense</th>\n      <th>Sp. Atk</th>\n      <th>Sp. Def</th>\n      <th>Speed</th>\n      <th>Generation</th>\n      <th>Legendary</th>\n      <th>Region</th>\n    </tr>\n  </thead>\n  <tbody>\n    <tr>\n      <th>163</th>\n      <td>150</td>\n      <td>MewtwoMega Mewtwo X</td>\n      <td>Psychic</td>\n      <td>Fighting</td>\n      <td>780</td>\n      <td>106</td>\n      <td>190</td>\n      <td>100</td>\n      <td>154</td>\n      <td>100</td>\n      <td>130</td>\n      <td>1</td>\n      <td>LEGENDARY</td>\n      <td>Kanto</td>\n    </tr>\n    <tr>\n      <th>426</th>\n      <td>384</td>\n      <td>RayquazaMega Rayquaza</td>\n      <td>Dragon</td>\n      <td>Flying</td>\n      <td>780</td>\n      <td>105</td>\n      <td>180</td>\n      <td>100</td>\n      <td>180</td>\n      <td>100</td>\n      <td>115</td>\n      <td>3</td>\n      <td>LEGENDARY</td>\n      <td>Hoenn</td>\n    </tr>\n    <tr>\n      <th>552</th>\n      <td>493</td>\n      <td>Arceus</td>\n      <td>Normal</td>\n      <td>NaN</td>\n      <td>720</td>\n      <td>120</td>\n      <td>120</td>\n      <td>120</td>\n      <td>120</td>\n      <td>120</td>\n      <td>120</td>\n      <td>4</td>\n      <td>LEGENDARY</td>\n      <td>Sinnoh</td>\n    </tr>\n    <tr>\n      <th>711</th>\n      <td>646</td>\n      <td>KyuremBlack Kyurem</td>\n      <td>Dragon</td>\n      <td>Ice</td>\n      <td>700</td>\n      <td>125</td>\n      <td>170</td>\n      <td>100</td>\n      <td>120</td>\n      <td>90</td>\n      <td>95</td>\n      <td>5</td>\n      <td>LEGENDARY</td>\n      <td>Unova</td>\n    </tr>\n    <tr>\n      <th>796</th>\n      <td>719</td>\n      <td>DiancieMega Diancie</td>\n      <td>Rock</td>\n      <td>Fairy</td>\n      <td>700</td>\n      <td>50</td>\n      <td>160</td>\n      <td>110</td>\n      <td>160</td>\n      <td>110</td>\n      <td>110</td>\n      <td>6</td>\n      <td>LEGENDARY</td>\n      <td>Kalos</td>\n    </tr>\n    <tr>\n      <th>270</th>\n      <td>250</td>\n      <td>Ho-oh</td>\n      <td>Fire</td>\n      <td>Flying</td>\n      <td>680</td>\n      <td>106</td>\n      <td>130</td>\n      <td>90</td>\n      <td>110</td>\n      <td>154</td>\n      <td>90</td>\n      <td>2</td>\n      <td>LEGENDARY</td>\n      <td>Johto</td>\n    </tr>\n  </tbody>\n</table>\n</div>"
     },
     "metadata": {},
     "execution_count": 30
    }
   ],
   "source": [
    "#What are the strongest legendary pokemon for each region\n",
    "pokedex[pokedex['Legendary'] == 'LEGENDARY'].sort_values(by='Total', ascending=False).groupby(['Region']).head(1)"
   ]
  },
  {
   "cell_type": "code",
   "execution_count": 29,
   "metadata": {},
   "outputs": [
    {
     "output_type": "execute_result",
     "data": {
      "text/plain": [
       "Generation  Region\n",
       "1           Kanto     147\n",
       "2           Johto      95\n",
       "3           Hoenn     125\n",
       "4           Sinnoh     96\n",
       "5           Unova     146\n",
       "6           Kalos      66\n",
       "Name: #, dtype: int64"
      ]
     },
     "metadata": {},
     "execution_count": 29
    }
   ],
   "source": [
    "#How many non legendary pokemon are in each region\n",
    "pokedex[pokedex['Legendary'] =='NON-LEGENDARY'].groupby(['Generation','Region'])['#'].nunique()"
   ]
  },
  {
   "cell_type": "code",
   "execution_count": 36,
   "metadata": {},
   "outputs": [
    {
     "output_type": "execute_result",
     "data": {
      "text/plain": [
       "Generation  Region\n",
       "1           Kanto     97.35\n",
       "2           Johto     95.00\n",
       "3           Hoenn     92.59\n",
       "4           Sinnoh    89.72\n",
       "5           Unova     93.59\n",
       "6           Kalos     91.67\n",
       "Name: #, dtype: float64"
      ]
     },
     "metadata": {},
     "execution_count": 36
    }
   ],
   "source": [
    "#What is the percentage of non legeneary pokemons compared to the roster for their respective region\n",
    "(((pokedex[pokedex['Legendary'] == 'NON-LEGENDARY'].groupby(['Generation','Region'])['#'].nunique())/(pokedex.groupby(['Generation','Region'])['#'].nunique())) * 100).round(2)"
   ]
  },
  {
   "cell_type": "code",
   "execution_count": 42,
   "metadata": {},
   "outputs": [
    {
     "output_type": "execute_result",
     "data": {
      "text/plain": [
       "       #                     Name  Type 1    Type 2  Total   HP  Attack  \\\n",
       "413  376  MetagrossMega Metagross   Steel   Psychic    700   80     145   \n",
       "494  445    GarchompMega Garchomp  Dragon    Ground    700  108     170   \n",
       "268  248  TyranitarMega Tyranitar    Rock      Dark    700  100     164   \n",
       "141  130    GyaradosMega Gyarados   Water      Dark    640   95     155   \n",
       "716  648  MeloettaPirouette Forme  Normal  Fighting    600  100     128   \n",
       "776  706                   Goodra  Dragon       NaN    600   90     100   \n",
       "\n",
       "     Defense  Sp. Atk  Sp. Def  Speed  Generation      Legendary  Region  \n",
       "413      150      105      110    110           3  NON-LEGENDARY   Hoenn  \n",
       "494      115      120       95     92           4  NON-LEGENDARY  Sinnoh  \n",
       "268      150       95      120     71           2  NON-LEGENDARY   Johto  \n",
       "141      109       70      130     81           1  NON-LEGENDARY   Kanto  \n",
       "716       90       77       77    128           5  NON-LEGENDARY   Unova  \n",
       "776       70      110      150     80           6  NON-LEGENDARY   Kalos  "
      ],
      "text/html": "<div>\n<style scoped>\n    .dataframe tbody tr th:only-of-type {\n        vertical-align: middle;\n    }\n\n    .dataframe tbody tr th {\n        vertical-align: top;\n    }\n\n    .dataframe thead th {\n        text-align: right;\n    }\n</style>\n<table border=\"1\" class=\"dataframe\">\n  <thead>\n    <tr style=\"text-align: right;\">\n      <th></th>\n      <th>#</th>\n      <th>Name</th>\n      <th>Type 1</th>\n      <th>Type 2</th>\n      <th>Total</th>\n      <th>HP</th>\n      <th>Attack</th>\n      <th>Defense</th>\n      <th>Sp. Atk</th>\n      <th>Sp. Def</th>\n      <th>Speed</th>\n      <th>Generation</th>\n      <th>Legendary</th>\n      <th>Region</th>\n    </tr>\n  </thead>\n  <tbody>\n    <tr>\n      <th>413</th>\n      <td>376</td>\n      <td>MetagrossMega Metagross</td>\n      <td>Steel</td>\n      <td>Psychic</td>\n      <td>700</td>\n      <td>80</td>\n      <td>145</td>\n      <td>150</td>\n      <td>105</td>\n      <td>110</td>\n      <td>110</td>\n      <td>3</td>\n      <td>NON-LEGENDARY</td>\n      <td>Hoenn</td>\n    </tr>\n    <tr>\n      <th>494</th>\n      <td>445</td>\n      <td>GarchompMega Garchomp</td>\n      <td>Dragon</td>\n      <td>Ground</td>\n      <td>700</td>\n      <td>108</td>\n      <td>170</td>\n      <td>115</td>\n      <td>120</td>\n      <td>95</td>\n      <td>92</td>\n      <td>4</td>\n      <td>NON-LEGENDARY</td>\n      <td>Sinnoh</td>\n    </tr>\n    <tr>\n      <th>268</th>\n      <td>248</td>\n      <td>TyranitarMega Tyranitar</td>\n      <td>Rock</td>\n      <td>Dark</td>\n      <td>700</td>\n      <td>100</td>\n      <td>164</td>\n      <td>150</td>\n      <td>95</td>\n      <td>120</td>\n      <td>71</td>\n      <td>2</td>\n      <td>NON-LEGENDARY</td>\n      <td>Johto</td>\n    </tr>\n    <tr>\n      <th>141</th>\n      <td>130</td>\n      <td>GyaradosMega Gyarados</td>\n      <td>Water</td>\n      <td>Dark</td>\n      <td>640</td>\n      <td>95</td>\n      <td>155</td>\n      <td>109</td>\n      <td>70</td>\n      <td>130</td>\n      <td>81</td>\n      <td>1</td>\n      <td>NON-LEGENDARY</td>\n      <td>Kanto</td>\n    </tr>\n    <tr>\n      <th>716</th>\n      <td>648</td>\n      <td>MeloettaPirouette Forme</td>\n      <td>Normal</td>\n      <td>Fighting</td>\n      <td>600</td>\n      <td>100</td>\n      <td>128</td>\n      <td>90</td>\n      <td>77</td>\n      <td>77</td>\n      <td>128</td>\n      <td>5</td>\n      <td>NON-LEGENDARY</td>\n      <td>Unova</td>\n    </tr>\n    <tr>\n      <th>776</th>\n      <td>706</td>\n      <td>Goodra</td>\n      <td>Dragon</td>\n      <td>NaN</td>\n      <td>600</td>\n      <td>90</td>\n      <td>100</td>\n      <td>70</td>\n      <td>110</td>\n      <td>150</td>\n      <td>80</td>\n      <td>6</td>\n      <td>NON-LEGENDARY</td>\n      <td>Kalos</td>\n    </tr>\n  </tbody>\n</table>\n</div>"
     },
     "metadata": {},
     "execution_count": 42
    }
   ],
   "source": [
    "#What are the strongest non legendary pokemon for each generation\n",
    "pokedex[(pokedex['Legendary'] == 'NON-LEGENDARY')].sort_values(by='Total', ascending=False).groupby(['Region']).head(1) "
   ]
  },
  {
   "cell_type": "code",
   "execution_count": 7,
   "metadata": {},
   "outputs": [
    {
     "output_type": "execute_result",
     "data": {
      "text/plain": [
       "18"
      ]
     },
     "metadata": {},
     "execution_count": 7
    }
   ],
   "source": [
    "#How many 'types' of pokemon are there\n",
    "pokedex['Type 1'].nunique()\n"
   ]
  },
  {
   "cell_type": "code",
   "execution_count": 8,
   "metadata": {},
   "outputs": [
    {
     "output_type": "execute_result",
     "data": {
      "text/plain": [
       "Type 1\n",
       "Water       105\n",
       "Normal       93\n",
       "Grass        66\n",
       "Bug          63\n",
       "Psychic      47\n",
       "Fire         47\n",
       "Rock         41\n",
       "Electric     36\n",
       "Ground       30\n",
       "Poison       28\n",
       "Dark         28\n",
       "Fighting     25\n",
       "Dragon       24\n",
       "Ice          23\n",
       "Ghost        23\n",
       "Steel        22\n",
       "Fairy        17\n",
       "Flying        3\n",
       "Name: #, dtype: int64"
      ]
     },
     "metadata": {},
     "execution_count": 8
    }
   ],
   "source": [
    "#how many pokemons belong to each category\n",
    "pokedex.groupby(['Type 1']).nunique()['#'].sort_values(ascending = False)"
   ]
  },
  {
   "cell_type": "code",
   "execution_count": 9,
   "metadata": {},
   "outputs": [
    {
     "output_type": "execute_result",
     "data": {
      "text/plain": [
       "Type 1\n",
       "Water       14.56\n",
       "Normal      12.90\n",
       "Grass        9.15\n",
       "Bug          8.74\n",
       "Psychic      6.52\n",
       "Fire         6.52\n",
       "Rock         5.69\n",
       "Electric     4.99\n",
       "Ground       4.16\n",
       "Poison       3.88\n",
       "Dark         3.88\n",
       "Fighting     3.47\n",
       "Dragon       3.33\n",
       "Ice          3.19\n",
       "Ghost        3.19\n",
       "Steel        3.05\n",
       "Fairy        2.36\n",
       "Flying       0.42\n",
       "Name: #, dtype: float64"
      ]
     },
     "metadata": {},
     "execution_count": 9
    }
   ],
   "source": [
    "#What is the percentage of each pokemon type compared to the entire roster\n",
    "((pokedex.groupby(['Type 1']).nunique()['#']/pokedex['#'].nunique()) * 100).round(2).sort_values(ascending = False)"
   ]
  },
  {
   "cell_type": "code",
   "execution_count": 10,
   "metadata": {},
   "outputs": [
    {
     "output_type": "execute_result",
     "data": {
      "text/plain": [
       "Type 1\n",
       "Psychic     780\n",
       "Dragon      780\n",
       "Water       770\n",
       "Ground      770\n",
       "Normal      720\n",
       "Rock        700\n",
       "Steel       700\n",
       "Fire        680\n",
       "Dark        680\n",
       "Fairy       680\n",
       "Ghost       680\n",
       "Grass       630\n",
       "Fighting    625\n",
       "Electric    610\n",
       "Bug         600\n",
       "Flying      580\n",
       "Ice         580\n",
       "Poison      535\n",
       "Name: Total, dtype: int64"
      ]
     },
     "metadata": {},
     "execution_count": 10
    }
   ],
   "source": [
    "#What is the strongest total for each type of pokemon sorted from strongest to weakest\n",
    "pokedex.groupby(['Type 1'])['Total'].max().sort_values(ascending = False)"
   ]
  },
  {
   "cell_type": "code",
   "execution_count": 11,
   "metadata": {},
   "outputs": [
    {
     "output_type": "execute_result",
     "data": {
      "text/plain": [
       "414"
      ]
     },
     "metadata": {},
     "execution_count": 11
    }
   ],
   "source": [
    "#how many pokemon contain a secondary type\n",
    "pokedex['Type 2'].count()"
   ]
  },
  {
   "cell_type": "code",
   "execution_count": 12,
   "metadata": {},
   "outputs": [
    {
     "output_type": "execute_result",
     "data": {
      "text/plain": [
       "57.42"
      ]
     },
     "metadata": {},
     "execution_count": 12
    }
   ],
   "source": [
    "#What is the percentage of pokemons containing a secondary type out of the entire roster rounded to the second decimal\n",
    "((pokedex['Type 2'].count()/pokedex['#'].nunique()) * 100).round(2)"
   ]
  },
  {
   "cell_type": "code",
   "execution_count": 13,
   "metadata": {},
   "outputs": [
    {
     "output_type": "execute_result",
     "data": {
      "text/plain": [
       "Type 2\n",
       "Flying      97\n",
       "Ground      35\n",
       "Poison      34\n",
       "Psychic     33\n",
       "Fighting    26\n",
       "Grass       25\n",
       "Fairy       23\n",
       "Steel       22\n",
       "Dark        20\n",
       "Dragon      18\n",
       "Water       14\n",
       "Ghost       14\n",
       "Ice         14\n",
       "Rock        14\n",
       "Fire        12\n",
       "Electric     6\n",
       "Normal       4\n",
       "Bug          3\n",
       "Name: #, dtype: int64"
      ]
     },
     "metadata": {},
     "execution_count": 13
    }
   ],
   "source": [
    "#What is the most common to least common second type attribute?\n",
    "pokedex.groupby(['Type 2']).count()['#'].sort_values(ascending = False)"
   ]
  },
  {
   "cell_type": "code",
   "execution_count": null,
   "metadata": {},
   "outputs": [],
   "source": []
  }
 ]
}