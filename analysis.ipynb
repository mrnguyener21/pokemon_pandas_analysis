{
 "metadata": {
  "language_info": {
   "codemirror_mode": {
    "name": "ipython",
    "version": 3
   },
   "file_extension": ".py",
   "mimetype": "text/x-python",
   "name": "python",
   "nbconvert_exporter": "python",
   "pygments_lexer": "ipython3",
   "version": "3.8.5-final"
  },
  "orig_nbformat": 2,
  "kernelspec": {
   "name": "python3",
   "display_name": "Python 3",
   "language": "python"
  }
 },
 "nbformat": 4,
 "nbformat_minor": 2,
 "cells": [
  {
   "cell_type": "code",
   "execution_count": 2,
   "metadata": {},
   "outputs": [
    {
     "output_type": "stream",
     "name": "stdout",
     "text": [
      "<class 'pandas.core.frame.DataFrame'>\nRangeIndex: 800 entries, 0 to 799\nData columns (total 13 columns):\n #   Column      Non-Null Count  Dtype \n---  ------      --------------  ----- \n 0   #           800 non-null    int64 \n 1   Name        800 non-null    object\n 2   Type 1      800 non-null    object\n 3   Type 2      414 non-null    object\n 4   Total       800 non-null    int64 \n 5   HP          800 non-null    int64 \n 6   Attack      800 non-null    int64 \n 7   Defense     800 non-null    int64 \n 8   Sp. Atk     800 non-null    int64 \n 9   Sp. Def     800 non-null    int64 \n 10  Speed       800 non-null    int64 \n 11  Generation  800 non-null    int64 \n 12  Legendary   800 non-null    bool  \ndtypes: bool(1), int64(9), object(3)\nmemory usage: 75.9+ KB\n"
     ]
    }
   ],
   "source": [
    "#Data Manipulation\n",
    "import numpy as np \n",
    "import pandas as pd \n",
    "\n",
    "#Data Visulation Tools\n",
    "import seaborn as sns\n",
    "import matplotlib as plt\n",
    "\n",
    "#Importing the data into the jupiter notebook and revealing we have 800 rows and 12 columns in this dataset\n",
    "pokedex = pd.read_csv('pokemon csv.csv')\n",
    "pokedex.info()"
   ]
  },
  {
   "cell_type": "code",
   "execution_count": 4,
   "metadata": {},
   "outputs": [
    {
     "output_type": "execute_result",
     "data": {
      "text/plain": [
       "   #                   Name Type 1  Type 2  Total  HP  Attack  Defense  \\\n",
       "0  1              Bulbasaur  Grass  Poison    318  45      49       49   \n",
       "1  2                Ivysaur  Grass  Poison    405  60      62       63   \n",
       "2  3               Venusaur  Grass  Poison    525  80      82       83   \n",
       "3  3  VenusaurMega Venusaur  Grass  Poison    625  80     100      123   \n",
       "4  4             Charmander   Fire     NaN    309  39      52       43   \n",
       "\n",
       "   Sp. Atk  Sp. Def  Speed  Generation  Legendary  \n",
       "0       65       65     45           1      False  \n",
       "1       80       80     60           1      False  \n",
       "2      100      100     80           1      False  \n",
       "3      122      120     80           1      False  \n",
       "4       60       50     65           1      False  "
      ],
      "text/html": "<div>\n<style scoped>\n    .dataframe tbody tr th:only-of-type {\n        vertical-align: middle;\n    }\n\n    .dataframe tbody tr th {\n        vertical-align: top;\n    }\n\n    .dataframe thead th {\n        text-align: right;\n    }\n</style>\n<table border=\"1\" class=\"dataframe\">\n  <thead>\n    <tr style=\"text-align: right;\">\n      <th></th>\n      <th>#</th>\n      <th>Name</th>\n      <th>Type 1</th>\n      <th>Type 2</th>\n      <th>Total</th>\n      <th>HP</th>\n      <th>Attack</th>\n      <th>Defense</th>\n      <th>Sp. Atk</th>\n      <th>Sp. Def</th>\n      <th>Speed</th>\n      <th>Generation</th>\n      <th>Legendary</th>\n    </tr>\n  </thead>\n  <tbody>\n    <tr>\n      <th>0</th>\n      <td>1</td>\n      <td>Bulbasaur</td>\n      <td>Grass</td>\n      <td>Poison</td>\n      <td>318</td>\n      <td>45</td>\n      <td>49</td>\n      <td>49</td>\n      <td>65</td>\n      <td>65</td>\n      <td>45</td>\n      <td>1</td>\n      <td>False</td>\n    </tr>\n    <tr>\n      <th>1</th>\n      <td>2</td>\n      <td>Ivysaur</td>\n      <td>Grass</td>\n      <td>Poison</td>\n      <td>405</td>\n      <td>60</td>\n      <td>62</td>\n      <td>63</td>\n      <td>80</td>\n      <td>80</td>\n      <td>60</td>\n      <td>1</td>\n      <td>False</td>\n    </tr>\n    <tr>\n      <th>2</th>\n      <td>3</td>\n      <td>Venusaur</td>\n      <td>Grass</td>\n      <td>Poison</td>\n      <td>525</td>\n      <td>80</td>\n      <td>82</td>\n      <td>83</td>\n      <td>100</td>\n      <td>100</td>\n      <td>80</td>\n      <td>1</td>\n      <td>False</td>\n    </tr>\n    <tr>\n      <th>3</th>\n      <td>3</td>\n      <td>VenusaurMega Venusaur</td>\n      <td>Grass</td>\n      <td>Poison</td>\n      <td>625</td>\n      <td>80</td>\n      <td>100</td>\n      <td>123</td>\n      <td>122</td>\n      <td>120</td>\n      <td>80</td>\n      <td>1</td>\n      <td>False</td>\n    </tr>\n    <tr>\n      <th>4</th>\n      <td>4</td>\n      <td>Charmander</td>\n      <td>Fire</td>\n      <td>NaN</td>\n      <td>309</td>\n      <td>39</td>\n      <td>52</td>\n      <td>43</td>\n      <td>60</td>\n      <td>50</td>\n      <td>65</td>\n      <td>1</td>\n      <td>False</td>\n    </tr>\n  </tbody>\n</table>\n</div>"
     },
     "metadata": {},
     "execution_count": 4
    }
   ],
   "source": [
    "#THIS SECTION WILL BE TAKING INTO ACCOUNT THE ENTIRE ROSTER\n",
    "pokedex.head()"
   ]
  },
  {
   "cell_type": "code",
   "execution_count": 81,
   "metadata": {},
   "outputs": [
    {
     "output_type": "execute_result",
     "data": {
      "text/plain": [
       "       #                   Name   Type 1    Type 2  Total   HP  Attack  \\\n",
       "426  384  RayquazaMega Rayquaza   Dragon    Flying    780  105     180   \n",
       "164  150    MewtwoMega Mewtwo Y  Psychic       NaN    780  106     150   \n",
       "163  150    MewtwoMega Mewtwo X  Psychic  Fighting    780  106     190   \n",
       "422  382    KyogrePrimal Kyogre    Water       NaN    770  100     150   \n",
       "424  383  GroudonPrimal Groudon   Ground      Fire    770  100     180   \n",
       "\n",
       "     Defense  Sp. Atk  Sp. Def  Speed  Generation  Legendary  \n",
       "426      100      180      100    115           3       True  \n",
       "164       70      194      120    140           1       True  \n",
       "163      100      154      100    130           1       True  \n",
       "422       90      180      160     90           3       True  \n",
       "424      160      150       90     90           3       True  "
      ],
      "text/html": "<div>\n<style scoped>\n    .dataframe tbody tr th:only-of-type {\n        vertical-align: middle;\n    }\n\n    .dataframe tbody tr th {\n        vertical-align: top;\n    }\n\n    .dataframe thead th {\n        text-align: right;\n    }\n</style>\n<table border=\"1\" class=\"dataframe\">\n  <thead>\n    <tr style=\"text-align: right;\">\n      <th></th>\n      <th>#</th>\n      <th>Name</th>\n      <th>Type 1</th>\n      <th>Type 2</th>\n      <th>Total</th>\n      <th>HP</th>\n      <th>Attack</th>\n      <th>Defense</th>\n      <th>Sp. Atk</th>\n      <th>Sp. Def</th>\n      <th>Speed</th>\n      <th>Generation</th>\n      <th>Legendary</th>\n    </tr>\n  </thead>\n  <tbody>\n    <tr>\n      <th>426</th>\n      <td>384</td>\n      <td>RayquazaMega Rayquaza</td>\n      <td>Dragon</td>\n      <td>Flying</td>\n      <td>780</td>\n      <td>105</td>\n      <td>180</td>\n      <td>100</td>\n      <td>180</td>\n      <td>100</td>\n      <td>115</td>\n      <td>3</td>\n      <td>True</td>\n    </tr>\n    <tr>\n      <th>164</th>\n      <td>150</td>\n      <td>MewtwoMega Mewtwo Y</td>\n      <td>Psychic</td>\n      <td>NaN</td>\n      <td>780</td>\n      <td>106</td>\n      <td>150</td>\n      <td>70</td>\n      <td>194</td>\n      <td>120</td>\n      <td>140</td>\n      <td>1</td>\n      <td>True</td>\n    </tr>\n    <tr>\n      <th>163</th>\n      <td>150</td>\n      <td>MewtwoMega Mewtwo X</td>\n      <td>Psychic</td>\n      <td>Fighting</td>\n      <td>780</td>\n      <td>106</td>\n      <td>190</td>\n      <td>100</td>\n      <td>154</td>\n      <td>100</td>\n      <td>130</td>\n      <td>1</td>\n      <td>True</td>\n    </tr>\n    <tr>\n      <th>422</th>\n      <td>382</td>\n      <td>KyogrePrimal Kyogre</td>\n      <td>Water</td>\n      <td>NaN</td>\n      <td>770</td>\n      <td>100</td>\n      <td>150</td>\n      <td>90</td>\n      <td>180</td>\n      <td>160</td>\n      <td>90</td>\n      <td>3</td>\n      <td>True</td>\n    </tr>\n    <tr>\n      <th>424</th>\n      <td>383</td>\n      <td>GroudonPrimal Groudon</td>\n      <td>Ground</td>\n      <td>Fire</td>\n      <td>770</td>\n      <td>100</td>\n      <td>180</td>\n      <td>160</td>\n      <td>150</td>\n      <td>90</td>\n      <td>90</td>\n      <td>3</td>\n      <td>True</td>\n    </tr>\n  </tbody>\n</table>\n</div>"
     },
     "metadata": {},
     "execution_count": 81
    }
   ],
   "source": [
    "#What are the top 5 strongest pokemons based on largest total\n",
    "# pokedex.loc[pokedex['Total'].max(),'Type 1']\n",
    "pokedex.sort_values(['Total'], ascending=False).head(5)"
   ]
  },
  {
   "cell_type": "code",
   "execution_count": 9,
   "metadata": {},
   "outputs": [
    {
     "output_type": "execute_result",
     "data": {
      "text/plain": [
       "721"
      ]
     },
     "metadata": {},
     "execution_count": 9
    }
   ],
   "source": [
    "#How many pokemon entries do we have in our data set?\n",
    "pokedex['#'].nunique()\n",
    "#We have a total of 721 different types of unique pokmeon"
   ]
  },
  {
   "cell_type": "code",
   "execution_count": 48,
   "metadata": {},
   "outputs": [
    {
     "output_type": "execute_result",
     "data": {
      "text/plain": [
       "18"
      ]
     },
     "metadata": {},
     "execution_count": 48
    }
   ],
   "source": [
    "#How many 'types' of pokemon are there\n",
    "pokedex['Type 1'].nunique()\n"
   ]
  },
  {
   "cell_type": "code",
   "execution_count": 91,
   "metadata": {},
   "outputs": [
    {
     "output_type": "execute_result",
     "data": {
      "text/plain": [
       "Type 1\n",
       "Water       112\n",
       "Normal       98\n",
       "Grass        70\n",
       "Bug          69\n",
       "Psychic      57\n",
       "Fire         52\n",
       "Rock         44\n",
       "Electric     44\n",
       "Ground       32\n",
       "Dragon       32\n",
       "Ghost        32\n",
       "Dark         31\n",
       "Poison       28\n",
       "Steel        27\n",
       "Fighting     27\n",
       "Ice          24\n",
       "Fairy        17\n",
       "Flying        4\n",
       "Name: Name, dtype: int64"
      ]
     },
     "metadata": {},
     "execution_count": 91
    }
   ],
   "source": [
    "#how many pokemons belong to each category\n",
    "pokedex.groupby(['Type 1']).nunique()['Name'].sort_values(ascending = False)"
   ]
  },
  {
   "cell_type": "code",
   "execution_count": 85,
   "metadata": {},
   "outputs": [
    {
     "output_type": "execute_result",
     "data": {
      "text/plain": [
       "Type 1\n",
       "Psychic     780\n",
       "Dragon      780\n",
       "Water       770\n",
       "Ground      770\n",
       "Normal      720\n",
       "Rock        700\n",
       "Steel       700\n",
       "Fire        680\n",
       "Dark        680\n",
       "Fairy       680\n",
       "Ghost       680\n",
       "Grass       630\n",
       "Fighting    625\n",
       "Electric    610\n",
       "Bug         600\n",
       "Flying      580\n",
       "Ice         580\n",
       "Poison      535\n",
       "Name: Total, dtype: int64"
      ]
     },
     "metadata": {},
     "execution_count": 85
    }
   ],
   "source": [
    "#What is the strongest total for each type of pokemon sorted from strongest to weakest\n",
    "pokedex.groupby(['Type 1'])['Total'].max().sort_values(ascending = False)"
   ]
  },
  {
   "cell_type": "code",
   "execution_count": 90,
   "metadata": {},
   "outputs": [
    {
     "output_type": "execute_result",
     "data": {
      "text/plain": [
       "Type 1\n",
       "Water       15.53\n",
       "Normal      13.59\n",
       "Grass        9.71\n",
       "Bug          9.57\n",
       "Psychic      7.91\n",
       "Fire         7.21\n",
       "Rock         6.10\n",
       "Electric     6.10\n",
       "Ground       4.44\n",
       "Dragon       4.44\n",
       "Ghost        4.44\n",
       "Dark         4.30\n",
       "Poison       3.88\n",
       "Steel        3.74\n",
       "Fighting     3.74\n",
       "Ice          3.33\n",
       "Fairy        2.36\n",
       "Flying       0.55\n",
       "Name: Name, dtype: float64"
      ]
     },
     "metadata": {},
     "execution_count": 90
    }
   ],
   "source": [
    "#What is the percentage of each pokemon type compared to the entire roster\n",
    "((pokedex.groupby(['Type 1']).nunique()['Name']/pokedex['#'].nunique()) * 100).round(2).sort_values(ascending = False)"
   ]
  },
  {
   "cell_type": "code",
   "execution_count": 53,
   "metadata": {},
   "outputs": [
    {
     "output_type": "execute_result",
     "data": {
      "text/plain": [
       "414"
      ]
     },
     "metadata": {},
     "execution_count": 53
    }
   ],
   "source": [
    "#how many pokemon contain a secondary type\n",
    "pokedex['Type 2'].count()"
   ]
  },
  {
   "cell_type": "code",
   "execution_count": 59,
   "metadata": {},
   "outputs": [
    {
     "output_type": "execute_result",
     "data": {
      "text/plain": [
       "57.42"
      ]
     },
     "metadata": {},
     "execution_count": 59
    }
   ],
   "source": [
    "#What is the percentage of pokemons containing a secondary type out of the entire roster rounded to the second decimal\n",
    "((pokedex['Type 2'].count()/pokedex['#'].nunique()) * 100).round(2)"
   ]
  }
 ]
}