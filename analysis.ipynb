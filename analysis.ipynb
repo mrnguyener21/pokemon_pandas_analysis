{
 "metadata": {
  "language_info": {
   "codemirror_mode": {
    "name": "ipython",
    "version": 3
   },
   "file_extension": ".py",
   "mimetype": "text/x-python",
   "name": "python",
   "nbconvert_exporter": "python",
   "pygments_lexer": "ipython3",
   "version": "3.8.5-final"
  },
  "orig_nbformat": 2,
  "kernelspec": {
   "name": "python3",
   "display_name": "Python 3",
   "language": "python"
  }
 },
 "nbformat": 4,
 "nbformat_minor": 2,
 "cells": [
  {
   "cell_type": "code",
   "execution_count": 2,
   "metadata": {},
   "outputs": [
    {
     "output_type": "stream",
     "name": "stdout",
     "text": [
      "<class 'pandas.core.frame.DataFrame'>\nRangeIndex: 800 entries, 0 to 799\nData columns (total 13 columns):\n #   Column      Non-Null Count  Dtype \n---  ------      --------------  ----- \n 0   #           800 non-null    int64 \n 1   Name        800 non-null    object\n 2   Type 1      800 non-null    object\n 3   Type 2      414 non-null    object\n 4   Total       800 non-null    int64 \n 5   HP          800 non-null    int64 \n 6   Attack      800 non-null    int64 \n 7   Defense     800 non-null    int64 \n 8   Sp. Atk     800 non-null    int64 \n 9   Sp. Def     800 non-null    int64 \n 10  Speed       800 non-null    int64 \n 11  Generation  800 non-null    int64 \n 12  Legendary   800 non-null    bool  \ndtypes: bool(1), int64(9), object(3)\nmemory usage: 75.9+ KB\n"
     ]
    }
   ],
   "source": [
    "import numpy as np \n",
    "import pandas as pd \n",
    "import seaborn\n",
    "\n",
    "pokedex = pd.read_csv('pokemon csv.csv')\n",
    "pokedex.info()"
   ]
  },
  {
   "cell_type": "code",
   "execution_count": null,
   "metadata": {},
   "outputs": [],
   "source": [
    "pokemon.head()"
   ]
  }
 ]
}